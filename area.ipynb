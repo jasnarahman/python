{
 "cells": [
  {
   "cell_type": "code",
   "execution_count": 3,
   "id": "bc67547f-c068-4cfe-b769-4657ce2fa88d",
   "metadata": {},
   "outputs": [
    {
     "name": "stdout",
     "output_type": "stream",
     "text": [
      "4.0\n"
     ]
    }
   ],
   "source": [
    "#import math\n",
    "number=16\n",
    "result=math.sqrt(number)\n",
    "print(result)"
   ]
  },
  {
   "cell_type": "code",
   "execution_count": 4,
   "id": "6c89bfe8-4a1e-46bf-b94c-17cd87d15fb8",
   "metadata": {},
   "outputs": [
    {
     "name": "stdout",
     "output_type": "stream",
     "text": [
      "5\n",
      "4\n"
     ]
    }
   ],
   "source": [
    "import math\n",
    "num=4.7\n",
    "print (math.ceil(num))\n",
    "print(math.floor(num))"
   ]
  },
  {
   "cell_type": "code",
   "execution_count": 5,
   "id": "ef5ec8a5-fece-49a0-8c21-b9de5aeb48f4",
   "metadata": {},
   "outputs": [
    {
     "name": "stdin",
     "output_type": "stream",
     "text": [
      "Enter the side length of the square:  4\n"
     ]
    },
    {
     "name": "stdout",
     "output_type": "stream",
     "text": [
      "Area of the square is 16.0\n"
     ]
    }
   ],
   "source": [
    "#program to find area of a square\n",
    "side = float(input(\"Enter the side length of the square: \"))\n",
    "area = side * side\n",
    "print(\"Area of the square is\", area)\n"
   ]
  },
  {
   "cell_type": "code",
   "execution_count": 7,
   "id": "b5d520d9-7ae1-4601-ac13-51041336e20e",
   "metadata": {},
   "outputs": [
    {
     "name": "stdin",
     "output_type": "stream",
     "text": [
      "Enter the base length of the triangle:  3.5\n",
      "Enter the height of the triangle:  4\n"
     ]
    },
    {
     "name": "stdout",
     "output_type": "stream",
     "text": [
      "The area of the right-angled triangle is 7.0\n"
     ]
    }
   ],
   "source": [
    "#area of right angled tirangle\n",
    "base = float(input(\"Enter the base length of the triangle: \"))\n",
    "height = float(input(\"Enter the height of the triangle: \"))\n",
    "\n",
    "# Calculate the area\n",
    "area = 0.5 * base * height\n",
    "\n",
    "# Display the result\n",
    "print(\"The area of the right-angled triangle is\", area)\n"
   ]
  },
  {
   "cell_type": "code",
   "execution_count": null,
   "id": "631a26a5-a002-4c27-9450-3d912945324f",
   "metadata": {},
   "outputs": [],
   "source": []
  }
 ],
 "metadata": {
  "kernelspec": {
   "display_name": "Python 3 (ipykernel)",
   "language": "python",
   "name": "python3"
  },
  "language_info": {
   "codemirror_mode": {
    "name": "ipython",
    "version": 3
   },
   "file_extension": ".py",
   "mimetype": "text/x-python",
   "name": "python",
   "nbconvert_exporter": "python",
   "pygments_lexer": "ipython3",
   "version": "3.11.9"
  }
 },
 "nbformat": 4,
 "nbformat_minor": 5
}
