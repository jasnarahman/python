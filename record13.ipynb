{
 "cells": [
  {
   "cell_type": "code",
   "execution_count": 2,
   "id": "b2f06de1-c140-41ca-abca-5f3f19d65bf7",
   "metadata": {},
   "outputs": [
    {
     "name": "stdin",
     "output_type": "stream",
     "text": [
      "Enter list of words seperated by comma: jasna,aswini,punya\n"
     ]
    },
    {
     "name": "stdout",
     "output_type": "stream",
     "text": [
      "Length of the largest word is 6\n"
     ]
    }
   ],
   "source": [
    "#program to return longest word\n",
    "words=input(\"Enter list of words seperated by comma:\").split(\",\")\n",
    "def length(words):\n",
    "    result=max(len(w) for w in words)\n",
    "    return result\n",
    "print(\"Length of the largest word is\",length(words))\n",
    "\n"
   ]
  },
  {
   "cell_type": "code",
   "execution_count": 7,
   "id": "17509bd4-764f-44bc-9f7c-dcc26c495a9e",
   "metadata": {},
   "outputs": [
    {
     "name": "stdin",
     "output_type": "stream",
     "text": [
      "Enter number of stars: 5\n"
     ]
    },
    {
     "name": "stdout",
     "output_type": "stream",
     "text": [
      "* \n",
      "* * \n",
      "* * * \n",
      "* * * * \n",
      "* * * * * \n",
      "* * * * \n",
      "* * * \n",
      "* * \n",
      "* \n"
     ]
    }
   ],
   "source": [
    "#display pattern\n",
    "n=int(input(\"Enter number of stars:\"))\n",
    "def star(n):\n",
    "    for i in range(1,n+1):\n",
    "        for j in range(i):\n",
    "            print(\"*\",end=\" \")\n",
    "        print()\n",
    "    for i in range(n-1,0,-1):\n",
    "        for j in range(i):\n",
    "            print(\"*\",end=\" \")\n",
    "        print()\n",
    "star(n)\n",
    "           "
   ]
  },
  {
   "cell_type": "code",
   "execution_count": 8,
   "id": "9d971ac8-d4a1-4f66-a3fb-40e0471dae75",
   "metadata": {},
   "outputs": [
    {
     "name": "stdin",
     "output_type": "stream",
     "text": [
      "Enter a number 6\n"
     ]
    },
    {
     "name": "stdout",
     "output_type": "stream",
     "text": [
      "Factor of number  6 are [1, 2, 3, 6]\n"
     ]
    }
   ],
   "source": [
    "#generate all factors of a number\n",
    "num=int(input(\"Enter a number\"))\n",
    "def factor(num):\n",
    "   return[i for i in range(1,num+1) if num%i ==0]\n",
    "print(\"Factor of number \",num,\"are\",factor(num))\n",
    "\n",
    "        "
   ]
  },
  {
   "cell_type": "code",
   "execution_count": 14,
   "id": "a94679ca-8d41-468c-b90d-d9bffda711c5",
   "metadata": {},
   "outputs": [
    {
     "name": "stdin",
     "output_type": "stream",
     "text": [
      "Enter the sides of a square: 2\n"
     ]
    },
    {
     "name": "stdout",
     "output_type": "stream",
     "text": [
      "Area of the square: 4\n"
     ]
    },
    {
     "name": "stdin",
     "output_type": "stream",
     "text": [
      "Enter the length of the rectangle: 4\n",
      "Enter the width of the rectangle: 3\n"
     ]
    },
    {
     "name": "stdout",
     "output_type": "stream",
     "text": [
      "Area of the square 12\n"
     ]
    },
    {
     "name": "stdin",
     "output_type": "stream",
     "text": [
      "Enter the base of the triangle: 3\n",
      "Enter the base of triangle: 6\n"
     ]
    },
    {
     "name": "stdout",
     "output_type": "stream",
     "text": [
      "Area of the square: 9.0\n"
     ]
    }
   ],
   "source": [
    "#find area using lamba function\n",
    "square=lambda a:a*a\n",
    "rectangle=lambda l,w:l*w\n",
    "triangle =lambda b,h:0.5*b*h\n",
    "a=int(input(\"Enter the sides of a square:\"))\n",
    "print(\"Area of the square:\",square(a))\n",
    "l=int(input(\"Enter the length of the rectangle:\"))\n",
    "w=int(input(\"Enter the width of the rectangle:\"))\n",
    "print(\"Area of the square\",rectangle(l,w))\n",
    "b=int(input(\"Enter the base of the triangle:\"))\n",
    "h=int(input(\"Enter the base of triangle:\"))\n",
    "print(\"Area of the square:\",triangle(b,h))\n",
    "      \n",
    "      "
   ]
  },
  {
   "cell_type": "code",
   "execution_count": null,
   "id": "d92659bc-fc0e-42db-a14c-9b38726eda49",
   "metadata": {},
   "outputs": [],
   "source": []
  }
 ],
 "metadata": {
  "kernelspec": {
   "display_name": "Python 3 (ipykernel)",
   "language": "python",
   "name": "python3"
  },
  "language_info": {
   "codemirror_mode": {
    "name": "ipython",
    "version": 3
   },
   "file_extension": ".py",
   "mimetype": "text/x-python",
   "name": "python",
   "nbconvert_exporter": "python",
   "pygments_lexer": "ipython3",
   "version": "3.11.9"
  }
 },
 "nbformat": 4,
 "nbformat_minor": 5
}
