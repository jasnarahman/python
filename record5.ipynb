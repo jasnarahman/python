{
 "cells": [
  {
   "cell_type": "code",
   "execution_count": 10,
   "id": "8ba211a4-7e7a-496d-a8c2-80fecea40154",
   "metadata": {},
   "outputs": [
    {
     "name": "stdin",
     "output_type": "stream",
     "text": [
      "Enter some colors: green,red,blue\n"
     ]
    },
    {
     "name": "stdout",
     "output_type": "stream",
     "text": [
      "green,red,blue\n",
      "['green', 'red', 'blue']\n",
      "First color is green\n",
      "Last color is blue\n"
     ]
    }
   ],
   "source": [
    "#program to list colors from comma seperated color names enterd by user.display first and last colors\n",
    "colors=input(\"Enter some colors:\")\n",
    "print(colors)\n",
    "new=colors.split(\",\")\n",
    "print(new)\n",
    "print(\"First color is\",new[0])\n",
    "print(\"Last color is\",new[-1])"
   ]
  },
  {
   "cell_type": "code",
   "execution_count": 2,
   "id": "4cfaaa76-7cb2-4c90-8f2b-7a131b93270b",
   "metadata": {},
   "outputs": [
    {
     "name": "stdin",
     "output_type": "stream",
     "text": [
      "Enter a file name: new.html\n"
     ]
    },
    {
     "name": "stdout",
     "output_type": "stream",
     "text": [
      "ectension: html\n"
     ]
    }
   ],
   "source": [
    "#program to accept a filename from the user,print extension of that\n",
    "name=input(\"Enter a file name:\")\n",
    "new=name.split('.')\n",
    "print(\"extension:\",new[-1])\n"
   ]
  },
  {
   "cell_type": "code",
   "execution_count": null,
   "id": "f8bbddc4-d8ce-43a7-b96a-82cc6bc01663",
   "metadata": {},
   "outputs": [],
   "source": []
  },
  {
   "cell_type": "code",
   "execution_count": 13,
   "id": "2162b63e-55b2-4607-b7ff-d470c0ad46de",
   "metadata": {},
   "outputs": [
    {
     "name": "stdin",
     "output_type": "stream",
     "text": [
      "Enter a sequence of numbers:  1,2,3,4\n"
     ]
    },
    {
     "name": "stdout",
     "output_type": "stream",
     "text": [
      "List is: [1, 2, 3, 4]\n",
      "Sum of numbers: 10\n"
     ]
    }
   ],
   "source": [
    "#progra to accept a sequence of numbers with a comma and create a list and find sum\n",
    "num=input(\"Enter a sequence of numbers:\")\n",
    "newno=list(map(int,num.split(',')))\n",
    "print(\"List is:\",newno)\n",
    "print(\"Sum of numbers:\",sum(newno))\n"
   ]
  },
  {
   "cell_type": "code",
   "execution_count": null,
   "id": "f20e4cbc-e01e-479c-b69c-589e502db8f1",
   "metadata": {},
   "outputs": [],
   "source": []
  }
 ],
 "metadata": {
  "kernelspec": {
   "display_name": "Python 3 (ipykernel)",
   "language": "python",
   "name": "python3"
  },
  "language_info": {
   "codemirror_mode": {
    "name": "ipython",
    "version": 3
   },
   "file_extension": ".py",
   "mimetype": "text/x-python",
   "name": "python",
   "nbconvert_exporter": "python",
   "pygments_lexer": "ipython3",
   "version": "3.11.9"
  }
 },
 "nbformat": 4,
 "nbformat_minor": 5
}
