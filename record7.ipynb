{
 "cells": [
  {
   "cell_type": "code",
   "execution_count": 1,
   "id": "2d721cc6-d9fb-4917-9921-b4c23fd3ae4a",
   "metadata": {},
   "outputs": [
    {
     "name": "stdout",
     "output_type": "stream",
     "text": [
      "even no from 1-25 is: [2, 4, 6, 8, 10, 12, 14, 16, 18, 20, 22, 24]\n",
      "sum of even no: 156\n"
     ]
    }
   ],
   "source": [
    "#print all even no.from 1-25&cal sum (range ()directly witout a loop or condition)\n",
    "even=list(range(2,25,2))\n",
    "print(\"even no from 1-25 is:\",even)\n",
    "print(\"sum of even no:\",sum(even))"
   ]
  },
  {
   "cell_type": "code",
   "execution_count": 4,
   "id": "839b931f-f3fc-4127-b9ce-35cd007a8ea6",
   "metadata": {},
   "outputs": [
    {
     "name": "stdin",
     "output_type": "stream",
     "text": [
      "Enter a range= 6\n"
     ]
    },
    {
     "name": "stdout",
     "output_type": "stream",
     "text": [
      "The numbers in reverse is (6, 5, 4, 3, 2, 1)\n",
      "The sum of the  reversed numbers= 21\n"
     ]
    }
   ],
   "source": [
    "#print in reverse and calculate sum\n",
    "num=int(input(\"Enter a range=\"))\n",
    "a=(tuple(range(num,0,-1)))\n",
    "print(\"The numbers in reverse is\",a)\n",
    "s=sum(a)\n",
    "print(\"The sum of the  reversed numbers=\",s)"
   ]
  },
  {
   "cell_type": "code",
   "execution_count": null,
   "id": "2368b06d-6c30-4291-89c0-a0dfb82bf09b",
   "metadata": {},
   "outputs": [],
   "source": []
  }
 ],
 "metadata": {
  "kernelspec": {
   "display_name": "Python 3 (ipykernel)",
   "language": "python",
   "name": "python3"
  },
  "language_info": {
   "codemirror_mode": {
    "name": "ipython",
    "version": 3
   },
   "file_extension": ".py",
   "mimetype": "text/x-python",
   "name": "python",
   "nbconvert_exporter": "python",
   "pygments_lexer": "ipython3",
   "version": "3.11.9"
  }
 },
 "nbformat": 4,
 "nbformat_minor": 5
}
