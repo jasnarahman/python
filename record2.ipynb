{
 "cells": [
  {
   "cell_type": "code",
   "execution_count": 1,
   "id": "4865c66e-a358-406d-8325-fb144b2bba3a",
   "metadata": {},
   "outputs": [
    {
     "name": "stdin",
     "output_type": "stream",
     "text": [
      "Temperature in celsius 34\n"
     ]
    },
    {
     "name": "stdout",
     "output_type": "stream",
     "text": [
      "The temperature in fahrenheit 93.2\n"
     ]
    }
   ],
   "source": [
    "#Program to convert temperature in celsius to fahreheit\n",
    "celsius=float(input(\"Temperature in celsius\"))\n",
    "fahrenheit=(celsius*9/5)+32\n",
    "print(\"The temperature in fahrenheit\",fahrenheit)\n"
   ]
  },
  {
   "cell_type": "code",
   "execution_count": 3,
   "id": "9a9d3efd-4921-4f90-814d-facdcd90528e",
   "metadata": {},
   "outputs": [
    {
     "name": "stdin",
     "output_type": "stream",
     "text": [
      "Enter distance in kilometers 3.5\n"
     ]
    },
    {
     "name": "stdout",
     "output_type": "stream",
     "text": [
      "Distance in miles 2.17\n"
     ]
    }
   ],
   "source": [
    "#Program to convert Kilometer to Miles\n",
    "kilometer=float(input(\"Enter distance in kilometers\"))\n",
    "cf=.621371\n",
    "miles=kilometer*cf\n",
    "print(\"Distance in miles\",round(miles,2))"
   ]
  },
  {
   "cell_type": "code",
   "execution_count": null,
   "id": "88396c65-1579-4261-82ae-841af7566977",
   "metadata": {},
   "outputs": [],
   "source": []
  }
 ],
 "metadata": {
  "kernelspec": {
   "display_name": "Python 3 (ipykernel)",
   "language": "python",
   "name": "python3"
  },
  "language_info": {
   "codemirror_mode": {
    "name": "ipython",
    "version": 3
   },
   "file_extension": ".py",
   "mimetype": "text/x-python",
   "name": "python",
   "nbconvert_exporter": "python",
   "pygments_lexer": "ipython3",
   "version": "3.11.9"
  }
 },
 "nbformat": 4,
 "nbformat_minor": 5
}
