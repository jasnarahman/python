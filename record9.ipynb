{
 "cells": [
  {
   "cell_type": "code",
   "execution_count": 6,
   "id": "3be4573e-d32b-4a14-a391-139f18238849",
   "metadata": {},
   "outputs": [
    {
     "name": "stdin",
     "output_type": "stream",
     "text": [
      "Enter 5 students name: jasna sahva punya anu rose\n",
      "Enter 5 students roll no: 1 2 3 4 5\n"
     ]
    },
    {
     "name": "stdout",
     "output_type": "stream",
     "text": [
      "Dictionary is : {'jasna': '1', 'sahva': '2', 'punya': '3', 'anu': '4', 'rose': '5'}\n",
      "In ascending order: {'anu': '4', 'jasna': '1', 'punya': '3', 'rose': '5', 'sahva': '2'}\n",
      "In descending order: {'sahva': '2', 'rose': '5', 'punya': '3', 'jasna': '1', 'anu': '4'}\n"
     ]
    }
   ],
   "source": [
    "#program to accept 5 students names and rollno and map these into a dictionary .sort the dictionary iin ascending and descending order\n",
    "name=input(\"Enter 5 students name:\").split()\n",
    "roll=input(\"Enter 5 students roll no:\").split()\n",
    "mydic=dict(zip(name,roll))\n",
    "print(\"Dictionary is :\",mydic)\n",
    "ascending=dict(sorted(mydic.items()))\n",
    "print(\"In ascending order:\",ascending)\n",
    "descending=dict(sorted(mydic.items(),reverse=True))\n",
    "print(\"In descending order:\",descending)\n",
    "\n"
   ]
  },
  {
   "cell_type": "code",
   "execution_count": 2,
   "id": "09f249a2-7906-44f8-ab9c-1b49187a83c8",
   "metadata": {},
   "outputs": [
    {
     "name": "stdin",
     "output_type": "stream",
     "text": [
      "Enter 3 roll nos: 3 4 5\n",
      "Enter 3 names: sahava jasna rose\n"
     ]
    },
    {
     "name": "stdout",
     "output_type": "stream",
     "text": [
      "Dictonary is: {'3': 'sahava', '4': 'jasna', '5': 'rose'}\n"
     ]
    },
    {
     "name": "stdin",
     "output_type": "stream",
     "text": [
      "Enter 2 roll nos: 1 2\n",
      "Enter 2 names: aswini saniya\n"
     ]
    },
    {
     "name": "stdout",
     "output_type": "stream",
     "text": [
      "Dictionary is {'1': 'aswini', '2': 'saniya'}\n",
      "Merged dictionary is: {'3': 'sahava', '4': 'jasna', '5': 'rose', '1': 'aswini', '2': 'saniya'}\n"
     ]
    }
   ],
   "source": [
    "#accept two dictionaries and merge them into one by using update(0\n",
    "a=input(\"Enter 3 roll nos:\").split()\n",
    "b=input(\"Enter 3 names:\").split()\n",
    "mydic1=dict(zip(a,b))\n",
    "print(\"Dictonary is:\",mydic1)\n",
    "c=input(\"Enter 2 roll nos:\").split()\n",
    "d=input(\"Enter 2 names:\").split()\n",
    "mydic2=dict(zip(c,d))\n",
    "print(\"Dictionary is\",mydic2)\n",
    "mydic1.update(mydic2)\n",
    "print(\"Merged dictionary is:\",mydic1)\n",
    "            "
   ]
  },
  {
   "cell_type": "code",
   "execution_count": null,
   "id": "22cd681b-9f35-4253-ae70-d508d8163bb9",
   "metadata": {},
   "outputs": [],
   "source": []
  }
 ],
 "metadata": {
  "kernelspec": {
   "display_name": "Python 3 (ipykernel)",
   "language": "python",
   "name": "python3"
  },
  "language_info": {
   "codemirror_mode": {
    "name": "ipython",
    "version": 3
   },
   "file_extension": ".py",
   "mimetype": "text/x-python",
   "name": "python",
   "nbconvert_exporter": "python",
   "pygments_lexer": "ipython3",
   "version": "3.11.9"
  }
 },
 "nbformat": 4,
 "nbformat_minor": 5
}
