{
 "cells": [
  {
   "cell_type": "code",
   "execution_count": 4,
   "id": "e11ffd81-a5e9-46c6-805d-65142d5e933d",
   "metadata": {},
   "outputs": [
    {
     "name": "stdin",
     "output_type": "stream",
     "text": [
      "Enter some numbers 1 2 3 4 5 \n",
      "Enter some numbers 6 7 8 9 10\n"
     ]
    },
    {
     "name": "stdout",
     "output_type": "stream",
     "text": [
      "List1= (1, 2, 3, 4, 5)\n",
      "List2= (6, 7, 8, 9, 10)\n",
      "Both lists have the same length\n",
      "List have the same sum\n",
      "List dont have same value\n"
     ]
    }
   ],
   "source": [
    "#compare two list of integers\n",
    "list1=input(\"Enter some numbers\")\n",
    "list2=input(\"Enter some numbers\")\n",
    "list1=tuple(map(int,list1.split()))\n",
    "list2=tuple(map(int,list2.split()))\n",
    "print(\"List1=\",list1)\n",
    "print(\"List2=\",list2)\n",
    "if len(list1)==len (list2):\n",
    "    print(\"Both lists have the same length\")\n",
    "else:\n",
    "    print(\"Lists have different sums\")\n",
    "if sum(list1)==sum(list2):\n",
    "    print(\"Both list have the same sum\")\n",
    "else:\n",
    "    print(\"List have the same sum\")\n",
    "val=set(list1)&set(list2)\n",
    "if val:\n",
    "    print(\"List have some same value\",val)\n",
    "else:\n",
    "    print(\"List dont have same value\")\n"
   ]
  },
  {
   "cell_type": "code",
   "execution_count": 9,
   "id": "f0e26cf5-0d0e-4699-bb71-5ec22cd613a9",
   "metadata": {},
   "outputs": [
    {
     "name": "stdin",
     "output_type": "stream",
     "text": [
      "Enter a string: walking\n"
     ]
    },
    {
     "name": "stdout",
     "output_type": "stream",
     "text": [
      "The string is: walkingly\n"
     ]
    }
   ],
   "source": [
    "#add 'ing' at end of str,if already eds with 'ing then add 'ly'\n",
    "wrd=input(\"Enter a string:\") \n",
    "if wrd.endswith(\"ing\"):\n",
    "  wrd+=\"ly\"\n",
    "else:\n",
    "    wrd+=\"ing\"\n",
    "print(\"The string is:\",wrd)\n",
    "    "
   ]
  },
  {
   "cell_type": "code",
   "execution_count": null,
   "id": "fa1231b5-8102-470c-adf3-5e4e5b4421e4",
   "metadata": {},
   "outputs": [],
   "source": []
  }
 ],
 "metadata": {
  "kernelspec": {
   "display_name": "Python 3 (ipykernel)",
   "language": "python",
   "name": "python3"
  },
  "language_info": {
   "codemirror_mode": {
    "name": "ipython",
    "version": 3
   },
   "file_extension": ".py",
   "mimetype": "text/x-python",
   "name": "python",
   "nbconvert_exporter": "python",
   "pygments_lexer": "ipython3",
   "version": "3.10.12"
  }
 },
 "nbformat": 4,
 "nbformat_minor": 5
}
