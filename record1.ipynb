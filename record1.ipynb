{
 "cells": [
  {
   "cell_type": "code",
   "execution_count": 7,
   "id": "2444719f-be70-4c3d-a436-3a51c4732d70",
   "metadata": {},
   "outputs": [
    {
     "name": "stdin",
     "output_type": "stream",
     "text": [
      "Enter an integer number 6\n"
     ]
    },
    {
     "name": "stdout",
     "output_type": "stream",
     "text": [
      "6 + 66 + 666 = 738\n"
     ]
    }
   ],
   "source": [
    "#program that accepts an integer (n)and computes the value of n+nn+nnn\n",
    "n=input(\"Enter an integer number\")\n",
    "nn=n*2\n",
    "nnn=n*3\n",
    "result=int(n)+int(nn)+int(nnn)\n",
    "print(n,\"+\",nn,\"+\",nnn,\"=\",result)\n"
   ]
  },
  {
   "cell_type": "code",
   "execution_count": 2,
   "id": "e91bf81c-7188-464c-9e53-f0c80340c8b4",
   "metadata": {},
   "outputs": [
    {
     "name": "stdin",
     "output_type": "stream",
     "text": [
      "enter the radius 3.5\n"
     ]
    },
    {
     "name": "stdout",
     "output_type": "stream",
     "text": [
      "Area of the circle= 38.48451000647496\n"
     ]
    }
   ],
   "source": [
    "#program to input radius of a circle and compute the area import math\n",
    "import math\n",
    "r=float(input(\"enter the radius\"))\n",
    "area=math.pi*r*r\n",
    "print(\"Area of the circle=\",area)\n"
   ]
  },
  {
   "cell_type": "code",
   "execution_count": null,
   "id": "b709dc18-7403-44a1-b32e-1b2d8406972d",
   "metadata": {},
   "outputs": [],
   "source": []
  }
 ],
 "metadata": {
  "kernelspec": {
   "display_name": "Python 3 (ipykernel)",
   "language": "python",
   "name": "python3"
  },
  "language_info": {
   "codemirror_mode": {
    "name": "ipython",
    "version": 3
   },
   "file_extension": ".py",
   "mimetype": "text/x-python",
   "name": "python",
   "nbconvert_exporter": "python",
   "pygments_lexer": "ipython3",
   "version": "3.11.9"
  }
 },
 "nbformat": 4,
 "nbformat_minor": 5
}
