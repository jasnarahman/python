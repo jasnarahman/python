{
 "cells": [
  {
   "cell_type": "code",
   "execution_count": null,
   "id": "b9da40d8-17c0-409f-a313-319bd8048200",
   "metadata": {},
   "outputs": [],
   "source": []
  },
  {
   "cell_type": "code",
   "execution_count": 1,
   "id": "7fe93f1b-f090-4a9e-8f6e-5b86a922d907",
   "metadata": {},
   "outputs": [
    {
     "name": "stdin",
     "output_type": "stream",
     "text": [
      "Enter length of Rectangle1: 2\n",
      "Enter breadth of Rectangle1: 3\n",
      "Enter length of Rectangle2: 2\n",
      "Enter breadth of Rectangle2: 2\n"
     ]
    },
    {
     "name": "stdout",
     "output_type": "stream",
     "text": [
      "Area of Rectangle1 6\n",
      "Perimeter of rectangle1 10\n",
      "Area of Rectangle2 4\n",
      "Perimeter of Rectangle2 8\n",
      "Rectangle 1 is greater\n"
     ]
    }
   ],
   "source": [
    "class  rectangle:\n",
    "    def get(self,l,b):\n",
    "        self.l=l\n",
    "        self.b=b\n",
    "    def area(self):\n",
    "        return self.l*self.b\n",
    "    def perimeter(self):\n",
    "        return 2*(self.l+self.b)\n",
    "r1=rectangle()\n",
    "r2=rectangle()\n",
    "l1=int(input(\"Enter length of Rectangle1:\"))\n",
    "b1=int(input(\"Enter breadth of Rectangle1:\"))\n",
    "l2=int(input(\"Enter length of Rectangle2:\"))\n",
    "b2=int(input(\"Enter breadth of Rectangle2:\"))\n",
    "r1.get(l1,b1)\n",
    "r2.get(l2,b2)\n",
    "print(\"Area of Rectangle1\",r1.area())\n",
    "print(\"Perimeter of rectangle1\",r1.perimeter())\n",
    "print(\"Area of Rectangle2\",r2.area())\n",
    "print(\"Perimeter of Rectangle2\",r2.perimeter())\n",
    "p=r1.area()\n",
    "q=r2.area()\n",
    "if(p>q):\n",
    "    print(\"Rectangle 1 is greater\")\n",
    "elif(p<q):\n",
    "        print(\"Rectangle 2 is greater\")\n",
    "else:\n",
    "    print(\"Rectangles are equal\")\n",
    "    "
   ]
  },
  {
   "cell_type": "code",
   "execution_count": null,
   "id": "687d658b-d1bf-435f-ba2d-c4f5724e4681",
   "metadata": {},
   "outputs": [],
   "source": []
  }
 ],
 "metadata": {
  "kernelspec": {
   "display_name": "Python 3 (ipykernel)",
   "language": "python",
   "name": "python3"
  },
  "language_info": {
   "codemirror_mode": {
    "name": "ipython",
    "version": 3
   },
   "file_extension": ".py",
   "mimetype": "text/x-python",
   "name": "python",
   "nbconvert_exporter": "python",
   "pygments_lexer": "ipython3",
   "version": "3.11.9"
  }
 },
 "nbformat": 4,
 "nbformat_minor": 5
}
