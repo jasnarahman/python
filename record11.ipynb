{
 "cells": [
  {
   "cell_type": "code",
   "execution_count": 3,
   "id": "f6aac4cb-9d46-4b76-988a-3452fc0d1234",
   "metadata": {},
   "outputs": [
    {
     "name": "stdin",
     "output_type": "stream",
     "text": [
      "Enter a line of text: the world is the world\n"
     ]
    },
    {
     "name": "stdout",
     "output_type": "stream",
     "text": [
      "The  occurence of: world : 2\n",
      "The  occurence of: the : 2\n",
      "The  occurence of: is : 1\n"
     ]
    }
   ],
   "source": [
    "#count occerence of each word in a line of text \n",
    "text=input(\"Enter a line of text:\").split()\n",
    "words=set(text)\n",
    "for word in words:\n",
    "    count=text.count(word)\n",
    "    print(\"The  occurence of:\",word,\":\",count)"
   ]
  },
  {
   "cell_type": "code",
   "execution_count": 8,
   "id": "bb329626-5acd-466a-a7a9-7eda072f33eb",
   "metadata": {},
   "outputs": [
    {
     "name": "stdin",
     "output_type": "stream",
     "text": [
      "Enter a list of numbers 45 102 34 205\n"
     ]
    },
    {
     "name": "stdout",
     "output_type": "stream",
     "text": [
      "Number greater than 100 store 'over' insted: [45, 'over', 34, 'over']\n"
     ]
    }
   ],
   "source": [
    "#prompt the user for a list of integers.For all values greater than 100 ,store 'over instead\n",
    "numbers=input(\"Enter a list of numbers\").split()\n",
    "n=[]\n",
    "for nums in numbers:\n",
    "  nu=int(nums)\n",
    "  if nu>100:\n",
    "       n.append(\"over\")\n",
    "  else:\n",
    "    n.append(nu)\n",
    "print(\"Number greater than 100 store 'over' insted:\",n)"
   ]
  },
  {
   "cell_type": "code",
   "execution_count": 5,
   "id": "721c19a4-eb41-44a2-94f0-6bc11571907d",
   "metadata": {},
   "outputs": [
    {
     "name": "stdin",
     "output_type": "stream",
     "text": [
      "Enter some names jasna,punya,sinu,aiswarya,saniy\n"
     ]
    },
    {
     "name": "stdout",
     "output_type": "stream",
     "text": [
      "List of names: ['jasna', 'punya', 'sinu', 'aiswarya', 'saniy']\n",
      "Occerence of 'a': 7\n"
     ]
    }
   ],
   "source": [
    "#store a list of first names.Count the occurence of 'a' within the list\n",
    "names=input(\"Enter some names\").split(\",\")\n",
    "count=0\n",
    "for name in names:\n",
    "    count+=name.lower().count('a')\n",
    "print (\"List of names:\",names)\n",
    "print( \"Occerence of 'a':\",count)\n"
   ]
  },
  {
   "cell_type": "code",
   "execution_count": 8,
   "id": "b9267bf2-a098-4933-8ee0-b695979fe14a",
   "metadata": {},
   "outputs": [
    {
     "name": "stdin",
     "output_type": "stream",
     "text": [
      "Enter first number: 450\n",
      "Enter second number: 23\n"
     ]
    },
    {
     "name": "stdout",
     "output_type": "stream",
     "text": [
      "GCD is 1\n"
     ]
    }
   ],
   "source": [
    "#program to find gcd of two numbers\n",
    "import math\n",
    "num1=int(input(\"Enter first number:\"))\n",
    "num2=int(input(\"Enter second number:\"))\n",
    "while num2 !=0:\n",
    "    num1,num2=num2,num1%num2\n",
    "print (\"GCD is\",num1)"
   ]
  },
  {
   "cell_type": "code",
   "execution_count": 13,
   "id": "69018434-82e6-48ee-8949-8b167348e497",
   "metadata": {},
   "outputs": [
    {
     "name": "stdin",
     "output_type": "stream",
     "text": [
      "enter list of numbers seperatted by commas 1,2,3,4,5,6\n"
     ]
    },
    {
     "name": "stdout",
     "output_type": "stream",
     "text": [
      "The original list is: [1, 2, 3, 4, 5, 6]\n",
      "The list without even num [1, 3, 5]\n"
     ]
    }
   ],
   "source": [
    "#program from a list of integers,create a llist removing even numbers\n",
    "num=input(\"enter list of numbers seperatted by commas\").split(\",\")\n",
    "num1=list(map(int,num))\n",
    "oddnum=[]\n",
    "for n in num1:\n",
    "    if n %2 != 0:\n",
    "      oddnum.append(n)\n",
    "print (\"The original list is:\",num1)\n",
    "print (\"The list without even num\",oddnum)"
   ]
  },
  {
   "cell_type": "code",
   "execution_count": 15,
   "id": "17c70688-951f-4b73-96a3-ee172a9c066f",
   "metadata": {},
   "outputs": [
    {
     "name": "stdin",
     "output_type": "stream",
     "text": [
      "Enter a number 5\n"
     ]
    },
    {
     "name": "stdout",
     "output_type": "stream",
     "text": [
      "Factorial of a number 5 is 120\n"
     ]
    }
   ],
   "source": [
    "#program to find factorial of a number\n",
    "num=int(input(\"Enter a number\"))\n",
    "fact=1\n",
    "for i in range(1,num+1):\n",
    "    fact=fact*i\n",
    "print(\"Factorial of a number\",num,\"is\",fact)"
   ]
  },
  {
   "cell_type": "code",
   "execution_count": 1,
   "id": "3a329088-9bad-46c2-9cf9-e250e07db7b7",
   "metadata": {},
   "outputs": [
    {
     "name": "stdin",
     "output_type": "stream",
     "text": [
      "Enter a number: 5\n"
     ]
    },
    {
     "name": "stdout",
     "output_type": "stream",
     "text": [
      "Fibonacci series:\n",
      "0 1 1 2 3 "
     ]
    }
   ],
   "source": [
    "# Program to generate fibonacci series of N terms\n",
    "n=int(input(\"Enter a number:\"))\n",
    "a,b=0,1\n",
    "print(\"Fibonacci series:\")\n",
    "for _ in range(n):\n",
    "  print(a,end=\" \")\n",
    "  a,b=b,a+b\n",
    "\n"
   ]
  },
  {
   "cell_type": "code",
   "execution_count": 7,
   "id": "332375e1-a280-42f3-84bc-37f3d172145a",
   "metadata": {},
   "outputs": [
    {
     "name": "stdin",
     "output_type": "stream",
     "text": [
      "Enter numbers seperatted by commas 1,2,3,4,5\n"
     ]
    },
    {
     "name": "stdout",
     "output_type": "stream",
     "text": [
      "Total number of numbers is: 15\n"
     ]
    }
   ],
   "source": [
    "#find the sum of all items in a list\n",
    "num=input(\"Enter numbers seperatted by commas\").split(\",\")\n",
    "num1=list(map(int,num))\n",
    "total=0\n",
    "for i in num1:\n",
    "  total+=i\n",
    "\n",
    "print(\"Total number of numbers is:\",total)\n"
   ]
  },
  {
   "cell_type": "code",
   "execution_count": 4,
   "id": "aab26378-d19b-4703-854d-42cd94d31f01",
   "metadata": {},
   "outputs": [
    {
     "name": "stdin",
     "output_type": "stream",
     "text": [
      "Enter the start of range: 5359\n",
      "Enter the end of range: 6789\n"
     ]
    },
    {
     "name": "stdout",
     "output_type": "stream",
     "text": [
      "Numbers with all even digits and perfect squares: [6084, 6400]\n"
     ]
    }
   ],
   "source": [
    "#Generate a list of four digit numbers in a given range with\n",
    "import math\n",
    "start=int(input(\"Enter the start of range:\"))\n",
    "end=int(input(\"Enter the end of range:\"))\n",
    "result=[]\n",
    "for num in range (start,end + 1):\n",
    "    if all(int(digit)%2==0 for digit in str(num)):\n",
    "        if int(math.isqrt(num)) ** 2==num:\n",
    "           result.append(num)\n",
    "\n",
    "print(\"Numbers with all even digits and perfect squares:\",result)"
   ]
  },
  {
   "cell_type": "code",
   "execution_count": 27,
   "id": "1f6abeef-136b-4aab-9df1-0110da89209f",
   "metadata": {},
   "outputs": [
    {
     "name": "stdin",
     "output_type": "stream",
     "text": [
      "Enter a string: jasna\n"
     ]
    },
    {
     "name": "stdout",
     "output_type": "stream",
     "text": [
      "Character frequency: {'j': 1, 'a': 2, 's': 1, 'n': 1}\n"
     ]
    }
   ],
   "source": [
    "#count the number of characters (character frequency)in a string\n",
    "text=input(\"Enter a string:\")\n",
    "charcount={}\n",
    "for ch in text:\n",
    "    charcount[ch]=charcount.get(ch,0) +1\n",
    "print(\"Character frequency:\",charcount)\n"
   ]
  },
  {
   "cell_type": "code",
   "execution_count": 44,
   "id": "47a921c2-b2e6-4256-9fad-4a39690f83d4",
   "metadata": {},
   "outputs": [
    {
     "name": "stdin",
     "output_type": "stream",
     "text": [
      "Enter a number: 5\n"
     ]
    },
    {
     "name": "stdout",
     "output_type": "stream",
     "text": [
      "1\t\n",
      "2\t4\t\n",
      "3\t6\t9\t\n",
      "4\t8\t12\t16\t\n",
      "5\t10\t15\t20\t25\t\n"
     ]
    }
   ],
   "source": [
    "#Display the given pyramid with step number accepted from user\n",
    "n=int(int(input(\"Enter a number:\")))\n",
    "for i in range(1, n+1):\n",
    "  for j in range (1, i+1):\n",
    "    print(i*j,end=\"\\t\")\n",
    "  print()\n",
    "          "
   ]
  },
  {
   "cell_type": "code",
   "execution_count": null,
   "id": "d2655ad8-04d9-4882-b9fb-fdd9d309dac6",
   "metadata": {},
   "outputs": [],
   "source": []
  }
 ],
 "metadata": {
  "kernelspec": {
   "display_name": "Python 3 (ipykernel)",
   "language": "python",
   "name": "python3"
  },
  "language_info": {
   "codemirror_mode": {
    "name": "ipython",
    "version": 3
   },
   "file_extension": ".py",
   "mimetype": "text/x-python",
   "name": "python",
   "nbconvert_exporter": "python",
   "pygments_lexer": "ipython3",
   "version": "3.11.9"
  }
 },
 "nbformat": 4,
 "nbformat_minor": 5
}
