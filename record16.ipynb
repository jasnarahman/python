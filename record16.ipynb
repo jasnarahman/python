{
 "cells": [
  {
   "cell_type": "code",
   "execution_count": null,
   "id": "99951432-962a-4fdf-889a-05ad98a9c4f1",
   "metadata": {},
   "outputs": [
    {
     "name": "stdin",
     "output_type": "stream",
     "text": [
      "Enter name: jasna\n",
      "Enter ac no 10001\n",
      "Enter acccount type: savings\n",
      "Enter initial balance: 1000\n",
      "\n",
      "1.Deposit\n",
      "2.Withdraw\n",
      "3.Account info\n",
      "4.exit\n",
      "choose your option 1\n",
      "Deposit amount: 1000\n"
     ]
    },
    {
     "name": "stdout",
     "output_type": "stream",
     "text": [
      "Initial balance= 1000\n",
      "1000 is deposited\n",
      "Current balance= 2000\n"
     ]
    },
    {
     "name": "stdin",
     "output_type": "stream",
     "text": [
      "\n",
      "1.Deposit\n",
      "2.Withdraw\n",
      "3.Account info\n",
      "4.exit\n",
      "choose your option 2\n",
      "Withdraw amount: 1000\n"
     ]
    },
    {
     "name": "stdout",
     "output_type": "stream",
     "text": [
      "Initial balance= 2000\n",
      "1000 is withdrawed\n",
      "Current balance: 1000\n"
     ]
    },
    {
     "name": "stdin",
     "output_type": "stream",
     "text": [
      "\n",
      "1.Deposit\n",
      "2.Withdraw\n",
      "3.Account info\n",
      "4.exit\n",
      "choose your option 3\n"
     ]
    },
    {
     "name": "stdout",
     "output_type": "stream",
     "text": [
      "Account holder name = jasna\n",
      "Account Number= 10001\n",
      "Account Type = savings\n",
      "Account Balance= 1000\n"
     ]
    },
    {
     "name": "stdin",
     "output_type": "stream",
     "text": [
      "\n",
      "1.Deposit\n",
      "2.Withdraw\n",
      "3.Account info\n",
      "4.exit\n",
      "choose your option 3\n"
     ]
    },
    {
     "name": "stdout",
     "output_type": "stream",
     "text": [
      "Account holder name = jasna\n",
      "Account Number= 10001\n",
      "Account Type = savings\n",
      "Account Balance= 1000\n"
     ]
    },
    {
     "name": "stdin",
     "output_type": "stream",
     "text": [
      "\n",
      "1.Deposit\n",
      "2.Withdraw\n",
      "3.Account info\n",
      "4.exit\n",
      "choose your option 2\n",
      "Withdraw amount: 3000\n"
     ]
    },
    {
     "name": "stdout",
     "output_type": "stream",
     "text": [
      "Initial balance= 1000\n",
      "You don't have enough balance to withdraw!!\n",
      "Current balance= 1000\n"
     ]
    }
   ],
   "source": [
    "class bankaccount:\n",
    "    def __init__(self,name,acno,ty_ac,bala):\n",
    "        self.__acno=acno\n",
    "        self.name=name\n",
    "        self.ty_ac=ty_ac\n",
    "        self.bala=bala\n",
    "    def deposite(self,deposite):\n",
    "        print(\"Initial balance=\",self.bala)\n",
    "        self.bala+=deposite\n",
    "        print (deposite,\"is deposited\")\n",
    "        print(\"Current balance=\",self.bala)\n",
    "    def withdraw(self):\n",
    "        self.amount=int(input(\"Withdraw amount:\"))\n",
    "        print(\"Initial balance=\",self.bala)\n",
    "        if self.amount>self.bala:\n",
    "            print(\"You don't have enough balance to withdraw!!\")\n",
    "            print(\"Current balance=\",self.bala)\n",
    "        else:\n",
    "            print(self.amount ,\"is withdrawed\")\n",
    "            self.bala-=amount\n",
    "            print (\"Current balance:\",self.bala)\n",
    "            \n",
    "    def display(self):\n",
    "        print(\"Account holder name =\",self.name)\n",
    "        print(\"Account Number=\",self.__acno)\n",
    "        print(\"Account Type =\",self.ty_ac)\n",
    "        print(\"Account Balance=\",self.bala)\n",
    "name=input(\"Enter name:\")\n",
    "acno=int(input(\"Enter ac no\"))\n",
    "ty_ac=input(\"Enter acccount type:\")\n",
    "bala=int(input(\"Enter initial balance:\"))\n",
    "holder= bankaccount(name,acno,ty_ac,bala)\n",
    "while(True):\n",
    "    ch=int(input(\"\\n1.Deposit\\n2.Withdraw\\n3.Account info\\n4.exit\\nchoose your option\"))\n",
    "    if ch==1:\n",
    "        amount=int(input(\"Deposit amount:\"))\n",
    "        holder.deposite(amount)\n",
    "    elif ch==2:\n",
    "        holder.withdraw()\n",
    "    elif ch==3:\n",
    "        holder.display()\n",
    "    else:\n",
    "        print(\"Exiting...\")\n",
    "        break\n",
    "             \n",
    "\n",
    "             \n",
    "\n",
    "\n",
    "    \n"
   ]
  },
  {
   "cell_type": "code",
   "execution_count": null,
   "id": "48f58af7-5627-4035-be32-3d73cea95157",
   "metadata": {},
   "outputs": [],
   "source": []
  },
  {
   "cell_type": "code",
   "execution_count": null,
   "id": "9d65274e-2219-48eb-b6bf-fc1bf1742221",
   "metadata": {},
   "outputs": [],
   "source": []
  }
 ],
 "metadata": {
  "kernelspec": {
   "display_name": "Python 3 (ipykernel)",
   "language": "python",
   "name": "python3"
  },
  "language_info": {
   "codemirror_mode": {
    "name": "ipython",
    "version": 3
   },
   "file_extension": ".py",
   "mimetype": "text/x-python",
   "name": "python",
   "nbconvert_exporter": "python",
   "pygments_lexer": "ipython3",
   "version": "3.11.9"
  }
 },
 "nbformat": 4,
 "nbformat_minor": 5
}
