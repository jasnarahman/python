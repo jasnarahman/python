{
 "cells": [
  {
   "cell_type": "code",
   "execution_count": 1,
   "id": "5305b0d9-33ce-45fa-9fd6-d0f52acd3082",
   "metadata": {},
   "outputs": [
    {
     "name": "stdout",
     "output_type": "stream",
     "text": [
      "Hello ,Harry!\n"
     ]
    }
   ],
   "source": [
    "#program to print Hello Harry\n",
    "n=\"Hello ,Harry!\"\n",
    "print(n)"
   ]
  },
  {
   "cell_type": "code",
   "execution_count": 2,
   "id": "a368c50e-de4e-4abe-b2d9-8ba465bc05a5",
   "metadata": {},
   "outputs": [
    {
     "name": "stdin",
     "output_type": "stream",
     "text": [
      "Enter a number 5\n"
     ]
    },
    {
     "name": "stdout",
     "output_type": "stream",
     "text": [
      "previous no= 4\n",
      "Next no= 6\n"
     ]
    }
   ],
   "source": [
    "#program to read an integer number and print its previous and next number\n",
    "n=int(input(\"Enter a number\"))\n",
    "pre=n-1\n",
    "next=n+1\n",
    "print(\"previous no=\",pre)\n",
    "print(\"Next no=\",next)\n"
   ]
  },
  {
   "cell_type": "code",
   "execution_count": 8,
   "id": "51f36c84-9183-42ef-ab5a-58c6c45907ef",
   "metadata": {},
   "outputs": [
    {
     "name": "stdin",
     "output_type": "stream",
     "text": [
      "Enter the principle amount 2000.2\n",
      "enter the rate of interest per year 7.5\n",
      "enter the time in years 2\n"
     ]
    },
    {
     "name": "stdout",
     "output_type": "stream",
     "text": [
      "The Simple interest is 300.03\n"
     ]
    }
   ],
   "source": [
    "#program to compute simple interest\n",
    "p=float(input(\"Enter the principle amount\"))\n",
    "r=float(input(\"enter the rate of interest per year\"))\n",
    "t=float(input(\"enter the time in years\"))\n",
    "si=(p*r*t)/100\n",
    "print(\"The Simple interest is\",si)\n"
   ]
  },
  {
   "cell_type": "code",
   "execution_count": null,
   "id": "f420effc-dfc2-492e-ad49-c947debe2447",
   "metadata": {},
   "outputs": [],
   "source": []
  }
 ],
 "metadata": {
  "kernelspec": {
   "display_name": "Python 3 (ipykernel)",
   "language": "python",
   "name": "python3"
  },
  "language_info": {
   "codemirror_mode": {
    "name": "ipython",
    "version": 3
   },
   "file_extension": ".py",
   "mimetype": "text/x-python",
   "name": "python",
   "nbconvert_exporter": "python",
   "pygments_lexer": "ipython3",
   "version": "3.11.9"
  }
 },
 "nbformat": 4,
 "nbformat_minor": 5
}
