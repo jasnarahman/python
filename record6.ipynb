{
 "cells": [
  {
   "cell_type": "code",
   "execution_count": 8,
   "id": "28f67812-8728-4c66-8e9a-46ff90539414",
   "metadata": {},
   "outputs": [
    {
     "name": "stdin",
     "output_type": "stream",
     "text": [
      "Enter a seguence of elements: 1 2 3 4 5 6 7\n"
     ]
    },
    {
     "name": "stdout",
     "output_type": "stream",
     "text": [
      "The numbers (1, 2, 3, 4, 5, 6, 7)\n",
      "Third element: 3\n",
      "Last third element 5\n"
     ]
    }
   ],
   "source": [
    "#program to get the 3rd element and 3rd element from last of a tuple\n",
    "n=input(\"Enter a seguence of elements:\")\n",
    "num=tuple(map(int,n.split()))\n",
    "third=num[2]\n",
    "lastthird=num[-3]\n",
    "print(\"The numbers\",num)\n",
    "\n",
    "print(\"Third element:\",third)\n",
    "print(\"Last third element\",lastthird)"
   ]
  },
  {
   "cell_type": "code",
   "execution_count": 2,
   "id": "46055bff-0bcc-4b75-bc77-80a8b38ae1b5",
   "metadata": {},
   "outputs": [
    {
     "name": "stdin",
     "output_type": "stream",
     "text": [
      "Enter the element 4 5 6 7 8\n"
     ]
    },
    {
     "name": "stdout",
     "output_type": "stream",
     "text": [
      "The numbers : (4, 5, 6, 7, 8)\n",
      "The average is 6.0\n"
     ]
    }
   ],
   "source": [
    "#program to accept a sequence of numbers with acomma and create a list and find sum\n",
    "num=input(\"Enter the element\")\n",
    "new=tuple(map(int,num.split()))\n",
    "avg=sum(new)/len(new)\n",
    "print(\"The numbers :\",new)\n",
    "print(\"The average is\",avg)"
   ]
  },
  {
   "cell_type": "code",
   "execution_count": null,
   "id": "aa1a3670-2694-464f-9165-533cb686b7d2",
   "metadata": {},
   "outputs": [],
   "source": []
  }
 ],
 "metadata": {
  "kernelspec": {
   "display_name": "Python 3 (ipykernel)",
   "language": "python",
   "name": "python3"
  },
  "language_info": {
   "codemirror_mode": {
    "name": "ipython",
    "version": 3
   },
   "file_extension": ".py",
   "mimetype": "text/x-python",
   "name": "python",
   "nbconvert_exporter": "python",
   "pygments_lexer": "ipython3",
   "version": "3.11.9"
  }
 },
 "nbformat": 4,
 "nbformat_minor": 5
}
