{
 "cells": [
  {
   "cell_type": "code",
   "execution_count": 1,
   "id": "70b42dcc-41f2-4f33-9f51-8a0cb8d98183",
   "metadata": {},
   "outputs": [
    {
     "name": "stdout",
     "output_type": "stream",
     "text": [
      "1.Rectangle\n",
      "2.Circle\n",
      "3.Exit\n"
     ]
    },
    {
     "name": "stdin",
     "output_type": "stream",
     "text": [
      "Enter your choice 1\n",
      "Enter length of rectangle 5\n",
      "Enter breadth of rectangle 6\n"
     ]
    },
    {
     "name": "stdout",
     "output_type": "stream",
     "text": [
      "Area of Rectangle: 30\n",
      "Perimeter of rectangle: 60\n",
      "1.Rectangle\n",
      "2.Circle\n",
      "3.Exit\n"
     ]
    },
    {
     "name": "stdin",
     "output_type": "stream",
     "text": [
      "Enter your choice 2\n",
      "Enter the radius 9\n"
     ]
    },
    {
     "name": "stdout",
     "output_type": "stream",
     "text": [
      "Area of circle: 254.34\n",
      "Perimeter of circle: 56.52\n",
      "1.Rectangle\n",
      "2.Circle\n",
      "3.Exit\n"
     ]
    },
    {
     "name": "stdin",
     "output_type": "stream",
     "text": [
      "Enter your choice 6\n"
     ]
    },
    {
     "name": "stdout",
     "output_type": "stream",
     "text": [
      "Exiting...\n"
     ]
    }
   ],
   "source": [
    "import m2\n",
    "import m1\n",
    "while(1):\n",
    "    print(\"1.Rectangle\\n2.Circle\\n3.Exit\")\n",
    "    n=int(input(\"Enter your choice\"))\n",
    "    if n==1:\n",
    "        l=int(input(\"Enter length of rectangle\"))\n",
    "        b=int(input(\"Enter breadth of rectangle\"))\n",
    "        m2.area(l,b)\n",
    "        m2.perimeter(l,b)\n",
    "    \n",
    "    elif n==2:\n",
    "        r=int(input(\"Enter the radius\"))\n",
    "        m1.area(r)\n",
    "        m1.perimeter(r)\n",
    "    \n",
    "    else :\n",
    "        print(\"Exiting...\")\n",
    "        break\n"
   ]
  },
  {
   "cell_type": "code",
   "execution_count": null,
   "id": "cb2d5999-bfc6-4e58-85a5-528091d2414c",
   "metadata": {},
   "outputs": [],
   "source": []
  }
 ],
 "metadata": {
  "kernelspec": {
   "display_name": "Python 3 (ipykernel)",
   "language": "python",
   "name": "python3"
  },
  "language_info": {
   "codemirror_mode": {
    "name": "ipython",
    "version": 3
   },
   "file_extension": ".py",
   "mimetype": "text/x-python",
   "name": "python",
   "nbconvert_exporter": "python",
   "pygments_lexer": "ipython3",
   "version": "3.11.9"
  }
 },
 "nbformat": 4,
 "nbformat_minor": 5
}
