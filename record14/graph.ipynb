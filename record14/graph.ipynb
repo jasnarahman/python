{
 "cells": [
  {
   "cell_type": "code",
   "execution_count": null,
   "id": "817f4abf-01b8-41ee-9a0e-6af12bf4f121",
   "metadata": {},
   "outputs": [],
   "source": []
  },
  {
   "cell_type": "code",
   "execution_count": 2,
   "id": "7fd499a2-e04a-4504-a82d-3dfadf00ba79",
   "metadata": {},
   "outputs": [
    {
     "name": "stdout",
     "output_type": "stream",
     "text": [
      "1.Rectangle\n",
      "2.Circle\n",
      "3.Cuboid\n",
      "4.Sphere\n",
      "5.Exit\n"
     ]
    },
    {
     "name": "stdin",
     "output_type": "stream",
     "text": [
      "Enter your option 1\n",
      "Enter length: 2\n",
      "Enter breadth: 2\n"
     ]
    },
    {
     "name": "stdout",
     "output_type": "stream",
     "text": [
      "Area of Rectangle: 4\n",
      "Perimeter of rectangle: 8\n",
      "1.Rectangle\n",
      "2.Circle\n",
      "3.Cuboid\n",
      "4.Sphere\n",
      "5.Exit\n"
     ]
    },
    {
     "name": "stdin",
     "output_type": "stream",
     "text": [
      "Enter your option 2\n",
      "Enter the radius 2\n"
     ]
    },
    {
     "name": "stdout",
     "output_type": "stream",
     "text": [
      "Area of circle: 12.56\n",
      "Perimeter of circle: 12.56\n",
      "1.Rectangle\n",
      "2.Circle\n",
      "3.Cuboid\n",
      "4.Sphere\n",
      "5.Exit\n"
     ]
    },
    {
     "name": "stdin",
     "output_type": "stream",
     "text": [
      "Enter your option 3\n",
      "Enter length: 2\n",
      "Enter breadth: 3\n",
      "Enter height 4\n"
     ]
    },
    {
     "name": "stdout",
     "output_type": "stream",
     "text": [
      "Area of cuboid: 52\n",
      "1.Rectangle\n",
      "2.Circle\n",
      "3.Cuboid\n",
      "4.Sphere\n",
      "5.Exit\n"
     ]
    },
    {
     "name": "stdin",
     "output_type": "stream",
     "text": [
      "Enter your option 4\n",
      "Enter radius 2\n"
     ]
    },
    {
     "name": "stdout",
     "output_type": "stream",
     "text": [
      "Area of sphere: 12.56\n",
      "Perimeter of sphere: 50.24\n",
      "1.Rectangle\n",
      "2.Circle\n",
      "3.Cuboid\n",
      "4.Sphere\n",
      "5.Exit\n"
     ]
    },
    {
     "name": "stdin",
     "output_type": "stream",
     "text": [
      "Enter your option 5\n"
     ]
    },
    {
     "name": "stdout",
     "output_type": "stream",
     "text": [
      "Exiting....\n"
     ]
    }
   ],
   "source": [
    "from package14 import rectangle\n",
    "from package14 import circle\n",
    "from package14.graphics import cuboid\n",
    "from package14.graphics import sphere\n",
    "while(1):\n",
    "    print(\"1.Rectangle\\n2.Circle\\n3.Cuboid\\n4.Sphere\\n5.Exit\")\n",
    "    n=int(input(\"Enter your option\"))\n",
    "    if n==1:\n",
    "        l=int(input(\"Enter length:\"))\n",
    "        b=int(input(\"Enter breadth:\"))\n",
    "        rectangle.area(l,b)\n",
    "        rectangle.perimeter(l,b)\n",
    "    elif n==2:\n",
    "        r=int(input(\"Enter the radius\"))\n",
    "        circle.area(r)\n",
    "        circle.perimeter(r)\n",
    "    elif n==3:\n",
    "        l=int(input(\"Enter length:\"))\n",
    "        b=int(input(\"Enter breadth:\"))\n",
    "        h=int(input(\"Enter height\"))\n",
    "        cuboid.area(l,b,h)\n",
    "    elif n==4:\n",
    "        r=int(input(\"Enter radius\"))\n",
    "        sphere.area(r)\n",
    "        sphere.perimeter(r)\n",
    "    else:\n",
    "        print(\"Exiting....\")\n",
    "        break\n",
    "        \n",
    "        \n",
    "    \n"
   ]
  },
  {
   "cell_type": "code",
   "execution_count": null,
   "id": "2372f763-47f6-4218-a451-94abd23b430f",
   "metadata": {},
   "outputs": [],
   "source": []
  }
 ],
 "metadata": {
  "kernelspec": {
   "display_name": "Python 3 (ipykernel)",
   "language": "python",
   "name": "python3"
  },
  "language_info": {
   "codemirror_mode": {
    "name": "ipython",
    "version": 3
   },
   "file_extension": ".py",
   "mimetype": "text/x-python",
   "name": "python",
   "nbconvert_exporter": "python",
   "pygments_lexer": "ipython3",
   "version": "3.11.9"
  }
 },
 "nbformat": 4,
 "nbformat_minor": 5
}
