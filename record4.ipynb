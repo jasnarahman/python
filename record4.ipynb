{
 "cells": [
  {
   "cell_type": "code",
   "execution_count": 5,
   "id": "c28b16f7-ad88-48b9-a72a-29a1694d5d4f",
   "metadata": {},
   "outputs": [
    {
     "name": "stdin",
     "output_type": "stream",
     "text": [
      "Enter a string computer\n"
     ]
    },
    {
     "name": "stdout",
     "output_type": "stream",
     "text": [
      "Modified string romputec\n"
     ]
    }
   ],
   "source": [
    "#program to change a given string to a new string\n",
    "string=input(\"Enter a string\")\n",
    "rev=string[-1]+string[1:-1]+string[0]\n",
    "print(\"Modified string\",rev)\n"
   ]
  },
  {
   "cell_type": "code",
   "execution_count": 3,
   "id": "337c461f-7c42-44c2-a934-46d4f4c67600",
   "metadata": {},
   "outputs": [
    {
     "name": "stdin",
     "output_type": "stream",
     "text": [
      "Enter a string record\n"
     ]
    },
    {
     "name": "stdout",
     "output_type": "stream",
     "text": [
      "Modified string rerd\n"
     ]
    }
   ],
   "source": [
    "#program to get a string made of the first 2 and the last 2 chars from a given string\n",
    "string=input(\"Enter a string\")\n",
    "first=string[:2]\n",
    "last=string[-2:]\n",
    "new=first+last\n",
    "print(\"Modified string\",new)\n"
   ]
  },
  {
   "cell_type": "code",
   "execution_count": 6,
   "id": "8a9800fb-f746-407b-93a0-5d0c8dd99568",
   "metadata": {},
   "outputs": [
    {
     "name": "stdin",
     "output_type": "stream",
     "text": [
      "First string happy\n",
      "Second string onam\n"
     ]
    },
    {
     "name": "stdout",
     "output_type": "stream",
     "text": [
      "The swapped string is: onppy haam\n"
     ]
    }
   ],
   "source": [
    "#program to get a single string from two given strings,seperated by a space and swap the first two characters of each string\n",
    "str1=input(\"First string\")\n",
    "str2=input(\"Second string\")\n",
    "n1=str2[:2]+str1[2:]\n",
    "n2=str1[:2]+str2[2:]\n",
    "out=n1+\" \"+n2\n",
    "print(\"The swapped string is:\",out)"
   ]
  },
  {
   "cell_type": "code",
   "execution_count": 9,
   "id": "125a4219-39e5-4472-968b-c6ac3cc141b7",
   "metadata": {},
   "outputs": [
    {
     "name": "stdin",
     "output_type": "stream",
     "text": [
      "enter a string watewr\n"
     ]
    },
    {
     "name": "stdout",
     "output_type": "stream",
     "text": [
      "changed string is wate$r\n"
     ]
    }
   ],
   "source": [
    "#program to get astring from a given string where all occurences of its first char have been changed to $,except the first char itself\n",
    "n=input(\"enter a string\")\n",
    "f=n[0]\n",
    "a=f+n[1:].replace(f,\"$\")\n",
    "print(\"changed string is\",a)"
   ]
  },
  {
   "cell_type": "code",
   "execution_count": null,
   "id": "e51ae6cc-62d4-4713-9640-5d76bcfc218c",
   "metadata": {},
   "outputs": [],
   "source": []
  }
 ],
 "metadata": {
  "kernelspec": {
   "display_name": "Python 3 (ipykernel)",
   "language": "python",
   "name": "python3"
  },
  "language_info": {
   "codemirror_mode": {
    "name": "ipython",
    "version": 3
   },
   "file_extension": ".py",
   "mimetype": "text/x-python",
   "name": "python",
   "nbconvert_exporter": "python",
   "pygments_lexer": "ipython3",
   "version": "3.11.9"
  }
 },
 "nbformat": 4,
 "nbformat_minor": 5
}
