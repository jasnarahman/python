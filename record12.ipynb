{
 "cells": [
  {
   "cell_type": "code",
   "execution_count": 11,
   "id": "66605a7a-a739-498f-a1c3-8f96cbc0a190",
   "metadata": {},
   "outputs": [
    {
     "name": "stdin",
     "output_type": "stream",
     "text": [
      "Enter integers seperated by space: 2 -3 6 8 10\n"
     ]
    },
    {
     "name": "stdout",
     "output_type": "stream",
     "text": [
      "Positive Numbers List: [2, 6, 8, 10]\n"
     ]
    }
   ],
   "source": [
    "#programto generate positive list of numbers from a given list of integers\n",
    "num=list(map(int,input(\"Enter integers seperated by space:\").split()))\n",
    "plist=[num1 for num1 in num if num1>0]\n",
    "print(\"Positive Numbers List:\",plist)"
   ]
  },
  {
   "cell_type": "code",
   "execution_count": null,
   "id": "768794f6-6f22-4a56-b35b-1c7bacd7da78",
   "metadata": {},
   "outputs": [],
   "source": []
  },
  {
   "cell_type": "code",
   "execution_count": 6,
   "id": "797148bf-26a2-4831-85f0-0fc9a274ba38",
   "metadata": {},
   "outputs": [
    {
     "name": "stdin",
     "output_type": "stream",
     "text": [
      "Enter integers seperated by space: 2 -3 4 -6 99 80\n"
     ]
    },
    {
     "name": "stdout",
     "output_type": "stream",
     "text": [
      "Squares of numbers: [4, 9, 16, 36, 9801, 6400]\n"
     ]
    }
   ],
   "source": [
    "#programto generate list of squares of N integers\n",
    "num=list(map(int,input(\"Enter integers seperated by space:\").split()))\n",
    "squares=[num1**2 for num1 in num]\n",
    "print(\"Squares of numbers:\",squares)"
   ]
  },
  {
   "cell_type": "code",
   "execution_count": 8,
   "id": "af7b699f-848e-4a68-bbf5-6b13278969aa",
   "metadata": {},
   "outputs": [
    {
     "name": "stdin",
     "output_type": "stream",
     "text": [
      "Enter a word engineering\n"
     ]
    },
    {
     "name": "stdout",
     "output_type": "stream",
     "text": [
      "Vowels in the word ['e', 'i', 'e', 'e', 'i']\n"
     ]
    }
   ],
   "source": [
    "#program to form a list of vowels from a given word\n",
    "w=input(\"Enter a word\")\n",
    "v=[c for c in w if c.lower()in 'aeiou']\n",
    "print(\"Vowels in the word\",v)"
   ]
  },
  {
   "cell_type": "code",
   "execution_count": 10,
   "id": "285bc25f-1612-4273-a825-32ad5e018912",
   "metadata": {},
   "outputs": [
    {
     "name": "stdin",
     "output_type": "stream",
     "text": [
      "Enter a word: bat\n"
     ]
    },
    {
     "name": "stdout",
     "output_type": "stream",
     "text": [
      "Ordinal values of characters: [98, 97, 116]\n"
     ]
    }
   ],
   "source": [
    "#program to list ordinal value of each element of a word\n",
    "w=input(\"Enter a word:\")\n",
    "ordinals=[ord(c) for c in w]\n",
    "print(\"Ordinal values of characters:\",ordinals)"
   ]
  },
  {
   "cell_type": "code",
   "execution_count": null,
   "id": "ab3537f5-83b3-41c8-ae72-ccf029198a8e",
   "metadata": {},
   "outputs": [],
   "source": []
  }
 ],
 "metadata": {
  "kernelspec": {
   "display_name": "Python 3 (ipykernel)",
   "language": "python",
   "name": "python3"
  },
  "language_info": {
   "codemirror_mode": {
    "name": "ipython",
    "version": 3
   },
   "file_extension": ".py",
   "mimetype": "text/x-python",
   "name": "python",
   "nbconvert_exporter": "python",
   "pygments_lexer": "ipython3",
   "version": "3.11.9"
  }
 },
 "nbformat": 4,
 "nbformat_minor": 5
}
