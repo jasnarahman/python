{
 "cells": [
  {
   "cell_type": "code",
   "execution_count": 6,
   "id": "43716623-3848-4c7e-b011-312b9df8014f",
   "metadata": {},
   "outputs": [
    {
     "name": "stdin",
     "output_type": "stream",
     "text": [
      "Enter some colors: green red blue black\n",
      "Enter some color: green white pink\n"
     ]
    },
    {
     "name": "stdout",
     "output_type": "stream",
     "text": [
      "Color set1: {'red', 'green', 'black', 'blue'}\n",
      "color set2: {'white', 'green', 'pink'}\n",
      "Colors not contained in set2 {'red', 'black', 'blue'}\n"
     ]
    }
   ],
   "source": [
    "#program  to print all colors from set1 not contained color set2\n",
    "set1=set(input(\"Enter some colors:\").split())\n",
    "set2=set(input(\"Enter some color:\").split())\n",
    "print(\"Color set1:\",set1)\n",
    "print(\"color set2:\",set2)\n",
    "newset=set1-set2\n",
    "print(\"Colors not contained in set2\",newset)\n"
   ]
  },
  {
   "cell_type": "code",
   "execution_count": 3,
   "id": "98f28ef0-cbf6-4fd5-807c-a4df9da8e939",
   "metadata": {},
   "outputs": [
    {
     "name": "stdin",
     "output_type": "stream",
     "text": [
      "Enter some colors: green blue red\n",
      "Enter some color: pink green black\n"
     ]
    },
    {
     "name": "stdout",
     "output_type": "stream",
     "text": [
      "Color set1: {'red', 'green', 'blue'}\n",
      "Color set2: {'pink', 'green', 'black'}\n",
      "All colors from set1 and set2 {'red', 'pink', 'black', 'green', 'blue'}\n"
     ]
    }
   ],
   "source": [
    "#program to print all colors from set 1 and color set2\n",
    "set1=set(input(\"Enter some colors:\").split())\n",
    "set2=set(input(\"Enter some color:\").split())\n",
    "print(\"Color set1:\",set1)\n",
    "print (\"Color set2:\",set2)\n",
    "set3=set1|set2\n",
    "print(\"All colors from set1 and set2\",set3)\n"
   ]
  },
  {
   "cell_type": "code",
   "execution_count": null,
   "id": "308d15cc-ed51-4cfa-a330-229c8ca50195",
   "metadata": {},
   "outputs": [],
   "source": []
  }
 ],
 "metadata": {
  "kernelspec": {
   "display_name": "Python 3 (ipykernel)",
   "language": "python",
   "name": "python3"
  },
  "language_info": {
   "codemirror_mode": {
    "name": "ipython",
    "version": 3
   },
   "file_extension": ".py",
   "mimetype": "text/x-python",
   "name": "python",
   "nbconvert_exporter": "python",
   "pygments_lexer": "ipython3",
   "version": "3.11.9"
  }
 },
 "nbformat": 4,
 "nbformat_minor": 5
}
